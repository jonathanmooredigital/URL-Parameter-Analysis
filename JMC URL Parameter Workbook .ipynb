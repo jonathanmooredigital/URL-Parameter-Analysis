{
 "cells": [
  {
   "cell_type": "markdown",
   "metadata": {},
   "source": [
    "# URL Parameter Analysis"
   ]
  },
  {
   "cell_type": "markdown",
   "metadata": {},
   "source": [
    "## About"
   ]
  },
  {
   "cell_type": "markdown",
   "metadata": {},
   "source": [
    "Made by [Jonathan Moore](https://jonathanmoore.digital/). Get in touch via [https://twitter.com/nathanless](https://twitter.com/nathanless) if you have any questions."
   ]
  },
  {
   "cell_type": "markdown",
   "metadata": {},
   "source": [
    "## Description\n",
    "\n",
    "This is a sample workbook to give you some ideas on how to analyse URL parameters.\n",
    "\n",
    "\n",
    "### Use Cases\n",
    "\n",
    "These are just a cople of examples:\n",
    "- Understanding in more detail the types of URL parameters that are present in your data\n",
    "- Finding URL parameters to remove from datasets, to make it easy to see the wood from the trees\n",
    " - For expample Google Analytics (GA)\n",
    "     - GA has a [table limit of 50,000 rows](https://support.google.com/analytics/answer/1009671?hl=en)\n",
    "     - And for some reason fbclid is never excluded from reports\n",
    "- Identifing UTM campgain tracking parameters in internal links\n",
    " - This screws up GA, becuase it creates a new session :(\n",
    "- Spot checking parameters in large datasets. \n",
    " - Good luck doing this in Excel or Google Sheets"
   ]
  },
  {
   "cell_type": "markdown",
   "metadata": {},
   "source": [
    "## Import packages"
   ]
  },
  {
   "cell_type": "code",
   "execution_count": 1,
   "metadata": {
    "ExecuteTime": {
     "end_time": "2020-08-14T15:52:52.406537Z",
     "start_time": "2020-08-14T15:52:51.868116Z"
    }
   },
   "outputs": [],
   "source": [
    "import pandas as pd\n",
    "import numpy as np"
   ]
  },
  {
   "cell_type": "markdown",
   "metadata": {},
   "source": [
    "## Set variables"
   ]
  },
  {
   "cell_type": "markdown",
   "metadata": {},
   "source": [
    "Change this to the location of your own file."
   ]
  },
  {
   "cell_type": "code",
   "execution_count": 2,
   "metadata": {},
   "outputs": [],
   "source": [
    "file_to_read = 'test-url-parameter-data.csv' "
   ]
  },
  {
   "cell_type": "markdown",
   "metadata": {},
   "source": [
    "Set this to matach the column you wish to analysise, for eaxample a Screaming Frog export would be 'address'. "
   ]
  },
  {
   "cell_type": "code",
   "execution_count": 3,
   "metadata": {},
   "outputs": [],
   "source": [
    "analysis_dimension = 'landing_page_path'"
   ]
  },
  {
   "cell_type": "markdown",
   "metadata": {},
   "source": [
    "## Load CSV file"
   ]
  },
  {
   "cell_type": "markdown",
   "metadata": {},
   "source": [
    "Load CSV file into a new dataframe. Here we're loading some spoof data I created using the [Faker](https://github.com/joke2k/faker) package and some real GA data. I've delebratly used a large file with some time series data but you don't have to.\n",
    "\n",
    "One enhancement to this script would be to connect it directly to the GA API, if you are interested this [blog by JP Chouinard](https://www.jcchouinard.com/google-analytics-api-using-python/) is a great primer on how to do this using a sercice account.\n",
    "\n"
   ]
  },
  {
   "cell_type": "code",
   "execution_count": 4,
   "metadata": {
    "ExecuteTime": {
     "end_time": "2020-08-14T15:52:58.908261Z",
     "start_time": "2020-08-14T15:52:52.446405Z"
    }
   },
   "outputs": [],
   "source": [
    "df = pd.read_csv(file_to_read, sep=',', low_memory=False,  encoding='utf8')"
   ]
  },
  {
   "cell_type": "markdown",
   "metadata": {},
   "source": [
    "Lowercase all columns and replace spaces with underscore. I find this makes life easier."
   ]
  },
  {
   "cell_type": "code",
   "execution_count": 5,
   "metadata": {
    "ExecuteTime": {
     "end_time": "2020-08-14T15:52:58.908261Z",
     "start_time": "2020-08-14T15:52:52.446405Z"
    }
   },
   "outputs": [],
   "source": [
    "df.columns = df.columns.str.lower().str.replace(' ','_')"
   ]
  },
  {
   "cell_type": "markdown",
   "metadata": {},
   "source": [
    "Create a dynamic URL column to check how many dynamic rows there are"
   ]
  },
  {
   "cell_type": "code",
   "execution_count": 6,
   "metadata": {},
   "outputs": [],
   "source": [
    "df['dynamic_url'] = df[analysis_dimension].str.contains('\\?')"
   ]
  },
  {
   "cell_type": "markdown",
   "metadata": {},
   "source": [
    "Spot check that csv has loaded as expected. "
   ]
  },
  {
   "cell_type": "code",
   "execution_count": 7,
   "metadata": {
    "ExecuteTime": {
     "end_time": "2020-08-14T15:52:58.908261Z",
     "start_time": "2020-08-14T15:52:52.446405Z"
    }
   },
   "outputs": [
    {
     "name": "stdout",
     "output_type": "stream",
     "text": [
      "1013067 rows and  4 columns\n",
      "\n"
     ]
    },
    {
     "data": {
      "text/html": [
       "<div>\n",
       "<style scoped>\n",
       "    .dataframe tbody tr th:only-of-type {\n",
       "        vertical-align: middle;\n",
       "    }\n",
       "\n",
       "    .dataframe tbody tr th {\n",
       "        vertical-align: top;\n",
       "    }\n",
       "\n",
       "    .dataframe thead th {\n",
       "        text-align: right;\n",
       "    }\n",
       "</style>\n",
       "<table border=\"1\" class=\"dataframe\">\n",
       "  <thead>\n",
       "    <tr style=\"text-align: right;\">\n",
       "      <th></th>\n",
       "      <th>date</th>\n",
       "      <th>landing_page_path</th>\n",
       "      <th>sessions</th>\n",
       "      <th>dynamic_url</th>\n",
       "    </tr>\n",
       "  </thead>\n",
       "  <tbody>\n",
       "    <tr>\n",
       "      <th>0</th>\n",
       "      <td>2019-06-28</td>\n",
       "      <td>/certain-order-cold</td>\n",
       "      <td>3962</td>\n",
       "      <td>False</td>\n",
       "    </tr>\n",
       "    <tr>\n",
       "      <th>1</th>\n",
       "      <td>2019-11-17</td>\n",
       "      <td>/way-while</td>\n",
       "      <td>2775</td>\n",
       "      <td>False</td>\n",
       "    </tr>\n",
       "    <tr>\n",
       "      <th>2</th>\n",
       "      <td>2020-12-16</td>\n",
       "      <td>/onto-establish</td>\n",
       "      <td>2562</td>\n",
       "      <td>False</td>\n",
       "    </tr>\n",
       "    <tr>\n",
       "      <th>3</th>\n",
       "      <td>2019-06-29</td>\n",
       "      <td>/later-them-eye-next</td>\n",
       "      <td>1599</td>\n",
       "      <td>False</td>\n",
       "    </tr>\n",
       "    <tr>\n",
       "      <th>4</th>\n",
       "      <td>2019-11-17</td>\n",
       "      <td>/attorney-talk</td>\n",
       "      <td>1565</td>\n",
       "      <td>False</td>\n",
       "    </tr>\n",
       "  </tbody>\n",
       "</table>\n",
       "</div>"
      ],
      "text/plain": [
       "         date     landing_page_path  sessions  dynamic_url\n",
       "0  2019-06-28   /certain-order-cold      3962        False\n",
       "1  2019-11-17            /way-while      2775        False\n",
       "2  2020-12-16       /onto-establish      2562        False\n",
       "3  2019-06-29  /later-them-eye-next      1599        False\n",
       "4  2019-11-17        /attorney-talk      1565        False"
      ]
     },
     "execution_count": 7,
     "metadata": {},
     "output_type": "execute_result"
    }
   ],
   "source": [
    "print(df.shape[0], 'rows and ', df.shape[1], 'columns\\n')\n",
    "df.head()"
   ]
  },
  {
   "cell_type": "markdown",
   "metadata": {},
   "source": [
    "Check how many pages in the DataFrame are dynamic"
   ]
  },
  {
   "cell_type": "code",
   "execution_count": 8,
   "metadata": {},
   "outputs": [],
   "source": [
    "dynamic_df = (df.groupby('dynamic_url').agg({analysis_dimension:'count'})\n",
    "                .rename(columns={analysis_dimension:'frequency'})\n",
    "                .sort_values('frequency', ascending=False)\n",
    "                .reset_index())"
   ]
  },
  {
   "cell_type": "code",
   "execution_count": 9,
   "metadata": {},
   "outputs": [],
   "source": [
    "dynamic_df['%'] = round(dynamic_df['frequency'] / dynamic_df['frequency'].sum(),2)"
   ]
  },
  {
   "cell_type": "code",
   "execution_count": 10,
   "metadata": {},
   "outputs": [
    {
     "data": {
      "text/html": [
       "<div>\n",
       "<style scoped>\n",
       "    .dataframe tbody tr th:only-of-type {\n",
       "        vertical-align: middle;\n",
       "    }\n",
       "\n",
       "    .dataframe tbody tr th {\n",
       "        vertical-align: top;\n",
       "    }\n",
       "\n",
       "    .dataframe thead th {\n",
       "        text-align: right;\n",
       "    }\n",
       "</style>\n",
       "<table border=\"1\" class=\"dataframe\">\n",
       "  <thead>\n",
       "    <tr style=\"text-align: right;\">\n",
       "      <th></th>\n",
       "      <th>dynamic_url</th>\n",
       "      <th>frequency</th>\n",
       "      <th>%</th>\n",
       "    </tr>\n",
       "  </thead>\n",
       "  <tbody>\n",
       "    <tr>\n",
       "      <th>0</th>\n",
       "      <td>True</td>\n",
       "      <td>614042</td>\n",
       "      <td>0.61</td>\n",
       "    </tr>\n",
       "    <tr>\n",
       "      <th>1</th>\n",
       "      <td>False</td>\n",
       "      <td>399025</td>\n",
       "      <td>0.39</td>\n",
       "    </tr>\n",
       "  </tbody>\n",
       "</table>\n",
       "</div>"
      ],
      "text/plain": [
       "   dynamic_url  frequency     %\n",
       "0         True     614042  0.61\n",
       "1        False     399025  0.39"
      ]
     },
     "execution_count": 10,
     "metadata": {},
     "output_type": "execute_result"
    }
   ],
   "source": [
    "dynamic_df"
   ]
  },
  {
   "cell_type": "markdown",
   "metadata": {},
   "source": [
    "## Create a dataframe of all URL parameters and their values"
   ]
  },
  {
   "cell_type": "markdown",
   "metadata": {},
   "source": [
    "Copy the orginal df, again I fond this makes life easier. Especially when I make a mistake. (Which happens regaually)."
   ]
  },
  {
   "cell_type": "code",
   "execution_count": 11,
   "metadata": {},
   "outputs": [],
   "source": [
    "parameters = df.copy()"
   ]
  },
  {
   "cell_type": "markdown",
   "metadata": {},
   "source": [
    "Extract all URL parametees into a Pandas DataFrame using extractall method and named groups to create the DataFrame.\n",
    "\n",
    "[Stack Overflow Link](https://stackoverflow.com/questions/33288420/extracting-url-parameters-into-pandas-dataframe)"
   ]
  },
  {
   "cell_type": "code",
   "execution_count": 12,
   "metadata": {},
   "outputs": [],
   "source": [
    "parameters = (parameters[analysis_dimension]\n",
    "                .str.extractall('[?&](?P<parameter>[^?#=]+)=?(?P<value>[^&]*)')\n",
    "                .xs(0, level=\"match\")\n",
    "                .reset_index(drop=True))"
   ]
  },
  {
   "cell_type": "markdown",
   "metadata": {},
   "source": [
    "Check the new dataframe."
   ]
  },
  {
   "cell_type": "code",
   "execution_count": 13,
   "metadata": {},
   "outputs": [
    {
     "name": "stdout",
     "output_type": "stream",
     "text": [
      "121681 rows and  2 columns\n",
      "\n"
     ]
    },
    {
     "data": {
      "text/html": [
       "<div>\n",
       "<style scoped>\n",
       "    .dataframe tbody tr th:only-of-type {\n",
       "        vertical-align: middle;\n",
       "    }\n",
       "\n",
       "    .dataframe tbody tr th {\n",
       "        vertical-align: top;\n",
       "    }\n",
       "\n",
       "    .dataframe thead th {\n",
       "        text-align: right;\n",
       "    }\n",
       "</style>\n",
       "<table border=\"1\" class=\"dataframe\">\n",
       "  <thead>\n",
       "    <tr style=\"text-align: right;\">\n",
       "      <th></th>\n",
       "      <th>parameter</th>\n",
       "      <th>value</th>\n",
       "    </tr>\n",
       "  </thead>\n",
       "  <tbody>\n",
       "    <tr>\n",
       "      <th>0</th>\n",
       "      <td>size</td>\n",
       "      <td>6_20_7</td>\n",
       "    </tr>\n",
       "    <tr>\n",
       "      <th>1</th>\n",
       "      <td>product_list_order</td>\n",
       "      <td>price</td>\n",
       "    </tr>\n",
       "    <tr>\n",
       "      <th>2</th>\n",
       "      <td>p</td>\n",
       "      <td>11</td>\n",
       "    </tr>\n",
       "    <tr>\n",
       "      <th>3</th>\n",
       "      <td>size</td>\n",
       "      <td>6_20_7</td>\n",
       "    </tr>\n",
       "    <tr>\n",
       "      <th>4</th>\n",
       "      <td>size</td>\n",
       "      <td>6_20_7</td>\n",
       "    </tr>\n",
       "  </tbody>\n",
       "</table>\n",
       "</div>"
      ],
      "text/plain": [
       "            parameter   value\n",
       "0                size  6_20_7\n",
       "1  product_list_order   price\n",
       "2                   p      11\n",
       "3                size  6_20_7\n",
       "4                size  6_20_7"
      ]
     },
     "execution_count": 13,
     "metadata": {},
     "output_type": "execute_result"
    }
   ],
   "source": [
    "print(parameters.shape[0], 'rows and ', parameters.shape[1], 'columns\\n')\n",
    "parameters.head(5)"
   ]
  },
  {
   "cell_type": "markdown",
   "metadata": {},
   "source": [
    "##### Download to CSV"
   ]
  },
  {
   "cell_type": "code",
   "execution_count": 14,
   "metadata": {},
   "outputs": [],
   "source": [
    "# parameters.to_csv('url-parameter-values.csv', index=False)"
   ]
  },
  {
   "cell_type": "markdown",
   "metadata": {},
   "source": [
    "## Sumerise data to see the wood from the trees"
   ]
  },
  {
   "cell_type": "markdown",
   "metadata": {},
   "source": [
    "Create a new dataframe to summerise parameters and values."
   ]
  },
  {
   "cell_type": "code",
   "execution_count": 15,
   "metadata": {},
   "outputs": [],
   "source": [
    "parameters_counts = (parameters.groupby('parameter')\n",
    "                        .agg({'parameter':'count','value':'nunique'})\n",
    "                        .rename(columns={'parameter':'frequency','value':'unique_values'})\n",
    "                        .sort_values('unique_values', ascending=False)\n",
    "                        .reset_index())"
   ]
  },
  {
   "cell_type": "markdown",
   "metadata": {},
   "source": [
    "Here a ratio column can be used to identify tracking or internal site searrch parameters. \n",
    "\n",
    "The higher ratio the more likely it is that every value is unique. "
   ]
  },
  {
   "cell_type": "code",
   "execution_count": 16,
   "metadata": {},
   "outputs": [],
   "source": [
    "parameters_counts['ratio'] = round(parameters_counts['unique_values'] / parameters_counts['frequency'],2)"
   ]
  },
  {
   "cell_type": "markdown",
   "metadata": {},
   "source": [
    "Check our new dataframe."
   ]
  },
  {
   "cell_type": "code",
   "execution_count": 17,
   "metadata": {},
   "outputs": [
    {
     "name": "stdout",
     "output_type": "stream",
     "text": [
      "26 rows and  4 columns\n",
      "\n"
     ]
    },
    {
     "data": {
      "text/html": [
       "<div>\n",
       "<style scoped>\n",
       "    .dataframe tbody tr th:only-of-type {\n",
       "        vertical-align: middle;\n",
       "    }\n",
       "\n",
       "    .dataframe tbody tr th {\n",
       "        vertical-align: top;\n",
       "    }\n",
       "\n",
       "    .dataframe thead th {\n",
       "        text-align: right;\n",
       "    }\n",
       "</style>\n",
       "<table border=\"1\" class=\"dataframe\">\n",
       "  <thead>\n",
       "    <tr style=\"text-align: right;\">\n",
       "      <th></th>\n",
       "      <th>parameter</th>\n",
       "      <th>frequency</th>\n",
       "      <th>unique_values</th>\n",
       "      <th>ratio</th>\n",
       "    </tr>\n",
       "  </thead>\n",
       "  <tbody>\n",
       "    <tr>\n",
       "      <th>0</th>\n",
       "      <td>dm_i</td>\n",
       "      <td>107704</td>\n",
       "      <td>91873</td>\n",
       "      <td>0.85</td>\n",
       "    </tr>\n",
       "    <tr>\n",
       "      <th>1</th>\n",
       "      <td>mc_eid</td>\n",
       "      <td>273</td>\n",
       "      <td>242</td>\n",
       "      <td>0.89</td>\n",
       "    </tr>\n",
       "    <tr>\n",
       "      <th>2</th>\n",
       "      <td>fbclid</td>\n",
       "      <td>221</td>\n",
       "      <td>217</td>\n",
       "      <td>0.98</td>\n",
       "    </tr>\n",
       "    <tr>\n",
       "      <th>3</th>\n",
       "      <td>size</td>\n",
       "      <td>3076</td>\n",
       "      <td>156</td>\n",
       "      <td>0.05</td>\n",
       "    </tr>\n",
       "    <tr>\n",
       "      <th>4</th>\n",
       "      <td>siteID</td>\n",
       "      <td>5044</td>\n",
       "      <td>141</td>\n",
       "      <td>0.03</td>\n",
       "    </tr>\n",
       "    <tr>\n",
       "      <th>5</th>\n",
       "      <td>price</td>\n",
       "      <td>229</td>\n",
       "      <td>38</td>\n",
       "      <td>0.17</td>\n",
       "    </tr>\n",
       "    <tr>\n",
       "      <th>6</th>\n",
       "      <td>style</td>\n",
       "      <td>392</td>\n",
       "      <td>28</td>\n",
       "      <td>0.07</td>\n",
       "    </tr>\n",
       "    <tr>\n",
       "      <th>7</th>\n",
       "      <td>color_group</td>\n",
       "      <td>106</td>\n",
       "      <td>20</td>\n",
       "      <td>0.19</td>\n",
       "    </tr>\n",
       "    <tr>\n",
       "      <th>8</th>\n",
       "      <td>p</td>\n",
       "      <td>3150</td>\n",
       "      <td>12</td>\n",
       "      <td>0.00</td>\n",
       "    </tr>\n",
       "    <tr>\n",
       "      <th>9</th>\n",
       "      <td>product_list_limit</td>\n",
       "      <td>536</td>\n",
       "      <td>4</td>\n",
       "      <td>0.01</td>\n",
       "    </tr>\n",
       "  </tbody>\n",
       "</table>\n",
       "</div>"
      ],
      "text/plain": [
       "            parameter  frequency  unique_values  ratio\n",
       "0                dm_i     107704          91873   0.85\n",
       "1              mc_eid        273            242   0.89\n",
       "2              fbclid        221            217   0.98\n",
       "3                size       3076            156   0.05\n",
       "4              siteID       5044            141   0.03\n",
       "5               price        229             38   0.17\n",
       "6               style        392             28   0.07\n",
       "7         color_group        106             20   0.19\n",
       "8                   p       3150             12   0.00\n",
       "9  product_list_limit        536              4   0.01"
      ]
     },
     "execution_count": 17,
     "metadata": {},
     "output_type": "execute_result"
    }
   ],
   "source": [
    "print(parameters_counts.shape[0], 'rows and ', parameters_counts.shape[1], 'columns\\n')\n",
    "parameters_counts.iloc[0:10]"
   ]
  },
  {
   "cell_type": "markdown",
   "metadata": {},
   "source": [
    "##### Download to CSV"
   ]
  },
  {
   "cell_type": "code",
   "execution_count": 18,
   "metadata": {},
   "outputs": [],
   "source": [
    "# parameters_counts.to_csv('url-parameter-analysis.csv', index=False)"
   ]
  },
  {
   "cell_type": "markdown",
   "metadata": {},
   "source": [
    "## Classify parameters"
   ]
  },
  {
   "cell_type": "markdown",
   "metadata": {},
   "source": [
    "Classifing parameters can help get a feel of what needs to be handled. \n",
    "\n",
    "Here I've used the lists Sitebulb have very kindly shared in their documentation as a starting point:\n",
    "\n",
    "- https://sitebulb.com/hints/internal/query-string-contains-paginated-parameters/\n",
    "- https://sitebulb.com/hints/internal/query-string-contains-search-or-filter-parameters/\n",
    "- https://sitebulb.com/hints/internal/query-string-contains-sort-parameters/\n",
    "\n",
    "I've also added a list of common tracking parameters. Let me know if you have a more complete list :)\n",
    "\n",
    "You can adapt the following lists to suit your own requiremnts."
   ]
  },
  {
   "cell_type": "code",
   "execution_count": 19,
   "metadata": {},
   "outputs": [],
   "source": [
    "pagination_parameters_list = ['p','page','start','from','limit','index','pageindex','page-index']\n",
    "\n",
    "internal_site_search_parameters_list = ['r','query','result','fids','fids','refine','search','filter','keyword','q']\n",
    "\n",
    "sort_parameters_list = ['sby','sort','sortby','orderby','rank','rank-by','option']\n",
    "\n",
    "tracking_parameters_list = ['mkt_tok','utm_source','utm_medium','utm_campaign','utm_term','utm_content','fbclid','dm_i','dm_t','mc_cid','mc_eid']"
   ]
  },
  {
   "cell_type": "markdown",
   "metadata": {},
   "source": [
    "Use np.where to act like an Excel if statement to create a new column in the parameters_counts DataFrame."
   ]
  },
  {
   "cell_type": "code",
   "execution_count": 20,
   "metadata": {},
   "outputs": [],
   "source": [
    "parameters_counts['parameter_type'] = (np.where(parameters_counts['parameter']\n",
    "                                        .isin(tracking_parameters_list),'Tracking Parameter',\n",
    "                                        np.where(parameters_counts['parameter']\n",
    "                                            .isin(pagination_parameters_list),'Pagination Parameter',\n",
    "                                        np.where(parameters_counts['parameter']\n",
    "                                            .isin(internal_site_search_parameters_list),'Intenrnal Site search Parameter',\n",
    "                                        np.where(parameters_counts['parameter']\n",
    "                                            .isin(sort_parameters_list),'Sort Parameter',\n",
    "                                                  'Other')))))"
   ]
  },
  {
   "cell_type": "code",
   "execution_count": 21,
   "metadata": {},
   "outputs": [
    {
     "name": "stdout",
     "output_type": "stream",
     "text": [
      "26 rows and  5 columns\n",
      "\n"
     ]
    },
    {
     "data": {
      "text/html": [
       "<div>\n",
       "<style scoped>\n",
       "    .dataframe tbody tr th:only-of-type {\n",
       "        vertical-align: middle;\n",
       "    }\n",
       "\n",
       "    .dataframe tbody tr th {\n",
       "        vertical-align: top;\n",
       "    }\n",
       "\n",
       "    .dataframe thead th {\n",
       "        text-align: right;\n",
       "    }\n",
       "</style>\n",
       "<table border=\"1\" class=\"dataframe\">\n",
       "  <thead>\n",
       "    <tr style=\"text-align: right;\">\n",
       "      <th></th>\n",
       "      <th>parameter</th>\n",
       "      <th>frequency</th>\n",
       "      <th>unique_values</th>\n",
       "      <th>ratio</th>\n",
       "      <th>parameter_type</th>\n",
       "    </tr>\n",
       "  </thead>\n",
       "  <tbody>\n",
       "    <tr>\n",
       "      <th>0</th>\n",
       "      <td>dm_i</td>\n",
       "      <td>107704</td>\n",
       "      <td>91873</td>\n",
       "      <td>0.85</td>\n",
       "      <td>Tracking Parameter</td>\n",
       "    </tr>\n",
       "    <tr>\n",
       "      <th>1</th>\n",
       "      <td>mc_eid</td>\n",
       "      <td>273</td>\n",
       "      <td>242</td>\n",
       "      <td>0.89</td>\n",
       "      <td>Tracking Parameter</td>\n",
       "    </tr>\n",
       "    <tr>\n",
       "      <th>2</th>\n",
       "      <td>fbclid</td>\n",
       "      <td>221</td>\n",
       "      <td>217</td>\n",
       "      <td>0.98</td>\n",
       "      <td>Tracking Parameter</td>\n",
       "    </tr>\n",
       "    <tr>\n",
       "      <th>3</th>\n",
       "      <td>size</td>\n",
       "      <td>3076</td>\n",
       "      <td>156</td>\n",
       "      <td>0.05</td>\n",
       "      <td>Other</td>\n",
       "    </tr>\n",
       "    <tr>\n",
       "      <th>4</th>\n",
       "      <td>siteID</td>\n",
       "      <td>5044</td>\n",
       "      <td>141</td>\n",
       "      <td>0.03</td>\n",
       "      <td>Other</td>\n",
       "    </tr>\n",
       "    <tr>\n",
       "      <th>5</th>\n",
       "      <td>price</td>\n",
       "      <td>229</td>\n",
       "      <td>38</td>\n",
       "      <td>0.17</td>\n",
       "      <td>Other</td>\n",
       "    </tr>\n",
       "    <tr>\n",
       "      <th>6</th>\n",
       "      <td>style</td>\n",
       "      <td>392</td>\n",
       "      <td>28</td>\n",
       "      <td>0.07</td>\n",
       "      <td>Other</td>\n",
       "    </tr>\n",
       "    <tr>\n",
       "      <th>7</th>\n",
       "      <td>color_group</td>\n",
       "      <td>106</td>\n",
       "      <td>20</td>\n",
       "      <td>0.19</td>\n",
       "      <td>Other</td>\n",
       "    </tr>\n",
       "    <tr>\n",
       "      <th>8</th>\n",
       "      <td>p</td>\n",
       "      <td>3150</td>\n",
       "      <td>12</td>\n",
       "      <td>0.00</td>\n",
       "      <td>Pagination Parameter</td>\n",
       "    </tr>\n",
       "    <tr>\n",
       "      <th>9</th>\n",
       "      <td>product_list_limit</td>\n",
       "      <td>536</td>\n",
       "      <td>4</td>\n",
       "      <td>0.01</td>\n",
       "      <td>Other</td>\n",
       "    </tr>\n",
       "  </tbody>\n",
       "</table>\n",
       "</div>"
      ],
      "text/plain": [
       "            parameter  frequency  unique_values  ratio        parameter_type\n",
       "0                dm_i     107704          91873   0.85    Tracking Parameter\n",
       "1              mc_eid        273            242   0.89    Tracking Parameter\n",
       "2              fbclid        221            217   0.98    Tracking Parameter\n",
       "3                size       3076            156   0.05                 Other\n",
       "4              siteID       5044            141   0.03                 Other\n",
       "5               price        229             38   0.17                 Other\n",
       "6               style        392             28   0.07                 Other\n",
       "7         color_group        106             20   0.19                 Other\n",
       "8                   p       3150             12   0.00  Pagination Parameter\n",
       "9  product_list_limit        536              4   0.01                 Other"
      ]
     },
     "execution_count": 21,
     "metadata": {},
     "output_type": "execute_result"
    }
   ],
   "source": [
    "print(parameters_counts.shape[0], 'rows and ', parameters_counts.shape[1], 'columns\\n')\n",
    "parameters_counts.head(10)"
   ]
  },
  {
   "cell_type": "markdown",
   "metadata": {},
   "source": [
    "##### Download to CSV"
   ]
  },
  {
   "cell_type": "code",
   "execution_count": 22,
   "metadata": {},
   "outputs": [],
   "source": [
    "# parameters_counts.to_csv('url-parameter-analysis.csv', index=False)"
   ]
  },
  {
   "cell_type": "markdown",
   "metadata": {},
   "source": [
    "Group DataFrame to summerise parameter types."
   ]
  },
  {
   "cell_type": "code",
   "execution_count": 23,
   "metadata": {},
   "outputs": [],
   "source": [
    "parameter_types = parameters_counts.copy()"
   ]
  },
  {
   "cell_type": "code",
   "execution_count": 24,
   "metadata": {},
   "outputs": [],
   "source": [
    "parameter_types = (parameter_types.groupby('parameter_type').agg({'parameter':'count'})\n",
    "                .rename(columns={'parameter':'frequency'})\n",
    "                .sort_values('frequency', ascending=False)\n",
    "                .reset_index())"
   ]
  },
  {
   "cell_type": "code",
   "execution_count": 25,
   "metadata": {},
   "outputs": [
    {
     "data": {
      "text/html": [
       "<div>\n",
       "<style scoped>\n",
       "    .dataframe tbody tr th:only-of-type {\n",
       "        vertical-align: middle;\n",
       "    }\n",
       "\n",
       "    .dataframe tbody tr th {\n",
       "        vertical-align: top;\n",
       "    }\n",
       "\n",
       "    .dataframe thead th {\n",
       "        text-align: right;\n",
       "    }\n",
       "</style>\n",
       "<table border=\"1\" class=\"dataframe\">\n",
       "  <thead>\n",
       "    <tr style=\"text-align: right;\">\n",
       "      <th></th>\n",
       "      <th>parameter_type</th>\n",
       "      <th>frequency</th>\n",
       "    </tr>\n",
       "  </thead>\n",
       "  <tbody>\n",
       "    <tr>\n",
       "      <th>0</th>\n",
       "      <td>Other</td>\n",
       "      <td>18</td>\n",
       "    </tr>\n",
       "    <tr>\n",
       "      <th>1</th>\n",
       "      <td>Tracking Parameter</td>\n",
       "      <td>6</td>\n",
       "    </tr>\n",
       "    <tr>\n",
       "      <th>2</th>\n",
       "      <td>Intenrnal Site search Parameter</td>\n",
       "      <td>1</td>\n",
       "    </tr>\n",
       "    <tr>\n",
       "      <th>3</th>\n",
       "      <td>Pagination Parameter</td>\n",
       "      <td>1</td>\n",
       "    </tr>\n",
       "  </tbody>\n",
       "</table>\n",
       "</div>"
      ],
      "text/plain": [
       "                    parameter_type  frequency\n",
       "0                            Other         18\n",
       "1               Tracking Parameter          6\n",
       "2  Intenrnal Site search Parameter          1\n",
       "3             Pagination Parameter          1"
      ]
     },
     "execution_count": 25,
     "metadata": {},
     "output_type": "execute_result"
    }
   ],
   "source": [
    "parameter_types.head()"
   ]
  },
  {
   "cell_type": "markdown",
   "metadata": {},
   "source": [
    "## Spot check parameters"
   ]
  },
  {
   "cell_type": "markdown",
   "metadata": {},
   "source": [
    "To help you sanity check you can adjust the parameter name in the cell below to get an overview of the first 10 parameters.\n",
    "\n",
    "This can be a lot easier than trying to fiter larger files in Excel or Google Sheets."
   ]
  },
  {
   "cell_type": "code",
   "execution_count": 26,
   "metadata": {},
   "outputs": [
    {
     "data": {
      "text/plain": [
       "['1TPL%2C6NMFG%2CUGE6M3%2CQIY54%2C1',\n",
       " '1TPL%2C760AI%2CQJY616%2CT1QR6%2C1',\n",
       " '1TPL%2C6LXOX%2CLNJLXD%2CQB2W9%2C1',\n",
       " '1TPL%2C6NUF6%2CRS1NVS%2CQK1N1%2C1',\n",
       " '1TPL%2C6ISHJ%2CP24WYT%2CPWNC9%2C1',\n",
       " '1TPL%2C6LPZ6%2CS6BR72%2CQA38G%2C1',\n",
       " '1TPL%2C6WO9O%2CQJWEG2%2CRR6DN%2C1',\n",
       " '1TPL%2C6NA61%2COUR5AL%2CQHBXQ%2C1',\n",
       " '1TPL%2C6ZV44%2CS6BRLG%2CS6YXO%2C1',\n",
       " '1TPL%2C6MRY1%2CCCM3ZH%2CQEYWW%2C1']"
      ]
     },
     "execution_count": 26,
     "metadata": {},
     "output_type": "execute_result"
    }
   ],
   "source": [
    "list(set(parameters[parameters['parameter'] == 'dm_i']['value']))[0:10]"
   ]
  },
  {
   "cell_type": "markdown",
   "metadata": {},
   "source": [
    "## Create a list of query  parameters to exclude in Google Analytics"
   ]
  },
  {
   "cell_type": "markdown",
   "metadata": {},
   "source": [
    "The next cell turns the parameter column in the parameters_counts dataframe into a string which you can directly input into GA view settings.\n",
    "\n",
    "Remove or adjust the **[0:10]** slice to suit your needs, but always sanity check, beofre you exclude anything from reports.\n",
    "\n",
    "When you first upload to GA, it's a good idea to create a test view. Once you're happy copy over the new settings to main reporting veiw.\n",
    "\n",
    "[Google Analytics help centre link](https://support.google.com/analytics/answer/1010249?hl=en)"
   ]
  },
  {
   "cell_type": "code",
   "execution_count": 27,
   "metadata": {},
   "outputs": [
    {
     "data": {
      "text/plain": [
       "'dm_i, mc_eid, fbclid, size, siteID, price, style, color_group, p, product_list_limit'"
      ]
     },
     "execution_count": 27,
     "metadata": {},
     "output_type": "execute_result"
    }
   ],
   "source": [
    "ga_string = ', '.join([str(param) for param in list(parameters_counts['parameter'])[0:10]])\n",
    "\n",
    "ga_string"
   ]
  },
  {
   "cell_type": "markdown",
   "metadata": {},
   "source": [
    "## Cleaning URL parameters"
   ]
  },
  {
   "cell_type": "markdown",
   "metadata": {},
   "source": [
    "Here we are going to add a column to our original dataframe, which does not contain any parameters.\n",
    "\n",
    "This first example uses split and take the first index to remove both the query and the fragment."
   ]
  },
  {
   "cell_type": "code",
   "execution_count": 28,
   "metadata": {},
   "outputs": [],
   "source": [
    "clean_df = df.copy()"
   ]
  },
  {
   "cell_type": "code",
   "execution_count": 29,
   "metadata": {},
   "outputs": [],
   "source": [
    "clean_df['clean_url_path'] =  clean_df[analysis_dimension].str.split('?').str[0].str.split('#').str[0]"
   ]
  },
  {
   "cell_type": "code",
   "execution_count": 30,
   "metadata": {},
   "outputs": [
    {
     "name": "stdout",
     "output_type": "stream",
     "text": [
      "1013067 rows and  5 columns\n",
      "\n"
     ]
    },
    {
     "data": {
      "text/html": [
       "<div>\n",
       "<style scoped>\n",
       "    .dataframe tbody tr th:only-of-type {\n",
       "        vertical-align: middle;\n",
       "    }\n",
       "\n",
       "    .dataframe tbody tr th {\n",
       "        vertical-align: top;\n",
       "    }\n",
       "\n",
       "    .dataframe thead th {\n",
       "        text-align: right;\n",
       "    }\n",
       "</style>\n",
       "<table border=\"1\" class=\"dataframe\">\n",
       "  <thead>\n",
       "    <tr style=\"text-align: right;\">\n",
       "      <th></th>\n",
       "      <th>date</th>\n",
       "      <th>landing_page_path</th>\n",
       "      <th>sessions</th>\n",
       "      <th>dynamic_url</th>\n",
       "      <th>clean_url_path</th>\n",
       "    </tr>\n",
       "  </thead>\n",
       "  <tbody>\n",
       "    <tr>\n",
       "      <th>0</th>\n",
       "      <td>2019-06-28</td>\n",
       "      <td>/certain-order-cold</td>\n",
       "      <td>3962</td>\n",
       "      <td>False</td>\n",
       "      <td>/certain-order-cold</td>\n",
       "    </tr>\n",
       "    <tr>\n",
       "      <th>1</th>\n",
       "      <td>2019-11-17</td>\n",
       "      <td>/way-while</td>\n",
       "      <td>2775</td>\n",
       "      <td>False</td>\n",
       "      <td>/way-while</td>\n",
       "    </tr>\n",
       "    <tr>\n",
       "      <th>2</th>\n",
       "      <td>2020-12-16</td>\n",
       "      <td>/onto-establish</td>\n",
       "      <td>2562</td>\n",
       "      <td>False</td>\n",
       "      <td>/onto-establish</td>\n",
       "    </tr>\n",
       "    <tr>\n",
       "      <th>3</th>\n",
       "      <td>2019-06-29</td>\n",
       "      <td>/later-them-eye-next</td>\n",
       "      <td>1599</td>\n",
       "      <td>False</td>\n",
       "      <td>/later-them-eye-next</td>\n",
       "    </tr>\n",
       "    <tr>\n",
       "      <th>4</th>\n",
       "      <td>2019-11-17</td>\n",
       "      <td>/attorney-talk</td>\n",
       "      <td>1565</td>\n",
       "      <td>False</td>\n",
       "      <td>/attorney-talk</td>\n",
       "    </tr>\n",
       "  </tbody>\n",
       "</table>\n",
       "</div>"
      ],
      "text/plain": [
       "         date     landing_page_path  sessions  dynamic_url  \\\n",
       "0  2019-06-28   /certain-order-cold      3962        False   \n",
       "1  2019-11-17            /way-while      2775        False   \n",
       "2  2020-12-16       /onto-establish      2562        False   \n",
       "3  2019-06-29  /later-them-eye-next      1599        False   \n",
       "4  2019-11-17        /attorney-talk      1565        False   \n",
       "\n",
       "         clean_url_path  \n",
       "0   /certain-order-cold  \n",
       "1            /way-while  \n",
       "2       /onto-establish  \n",
       "3  /later-them-eye-next  \n",
       "4        /attorney-talk  "
      ]
     },
     "execution_count": 30,
     "metadata": {},
     "output_type": "execute_result"
    }
   ],
   "source": [
    "print(clean_df.shape[0], 'rows and ', clean_df.shape[1], 'columns\\n')\n",
    "clean_df.head()"
   ]
  },
  {
   "cell_type": "markdown",
   "metadata": {},
   "source": [
    "This second example uses the excellent urllib library."
   ]
  },
  {
   "cell_type": "code",
   "execution_count": 31,
   "metadata": {},
   "outputs": [],
   "source": [
    "from urllib.parse import urlsplit, urlunsplit\n",
    "\n",
    "def remove_query_params_and_fragment(url):\n",
    "    return urlunsplit(urlsplit(url)._replace(query=\"\", fragment=\"\"))"
   ]
  },
  {
   "cell_type": "code",
   "execution_count": 32,
   "metadata": {},
   "outputs": [],
   "source": [
    "# clean_df['clean_url_path'] =  clean_df[analysis_dimension].apply(remove_query_params_and_fragment)"
   ]
  },
  {
   "cell_type": "markdown",
   "metadata": {},
   "source": [
    "Check query string has been removed."
   ]
  },
  {
   "cell_type": "code",
   "execution_count": 33,
   "metadata": {},
   "outputs": [],
   "source": [
    "dynamic_df_check = (clean_df[clean_df[analysis_dimension] != clean_df['clean_url_path']]\n",
    "                    [[analysis_dimension,'clean_url_path']])"
   ]
  },
  {
   "cell_type": "code",
   "execution_count": 34,
   "metadata": {},
   "outputs": [
    {
     "name": "stdout",
     "output_type": "stream",
     "text": [
      "614042 rows and  2 columns\n",
      "\n"
     ]
    },
    {
     "data": {
      "text/html": [
       "<div>\n",
       "<style scoped>\n",
       "    .dataframe tbody tr th:only-of-type {\n",
       "        vertical-align: middle;\n",
       "    }\n",
       "\n",
       "    .dataframe tbody tr th {\n",
       "        vertical-align: top;\n",
       "    }\n",
       "\n",
       "    .dataframe thead th {\n",
       "        text-align: right;\n",
       "    }\n",
       "</style>\n",
       "<table border=\"1\" class=\"dataframe\">\n",
       "  <thead>\n",
       "    <tr style=\"text-align: right;\">\n",
       "      <th></th>\n",
       "      <th>landing_page_path</th>\n",
       "      <th>clean_url_path</th>\n",
       "    </tr>\n",
       "  </thead>\n",
       "  <tbody>\n",
       "    <tr>\n",
       "      <th>3788</th>\n",
       "      <td>/ability-care-space?=p%3D1</td>\n",
       "      <td>/ability-care-space</td>\n",
       "    </tr>\n",
       "    <tr>\n",
       "      <th>4816</th>\n",
       "      <td>/attorney-talk?=price%3D0-50</td>\n",
       "      <td>/attorney-talk</td>\n",
       "    </tr>\n",
       "    <tr>\n",
       "      <th>9066</th>\n",
       "      <td>/as-media-area?=p%3D1</td>\n",
       "      <td>/as-media-area</td>\n",
       "    </tr>\n",
       "    <tr>\n",
       "      <th>9894</th>\n",
       "      <td>/these-draw-while?=___store%3Dview_eu&amp;size=6_2...</td>\n",
       "      <td>/these-draw-while</td>\n",
       "    </tr>\n",
       "    <tr>\n",
       "      <th>11769</th>\n",
       "      <td>/machine-among?=dm_t%3D0%2C0%2C0%2C0%2C0</td>\n",
       "      <td>/machine-among</td>\n",
       "    </tr>\n",
       "  </tbody>\n",
       "</table>\n",
       "</div>"
      ],
      "text/plain": [
       "                                       landing_page_path       clean_url_path\n",
       "3788                          /ability-care-space?=p%3D1  /ability-care-space\n",
       "4816                        /attorney-talk?=price%3D0-50       /attorney-talk\n",
       "9066                               /as-media-area?=p%3D1       /as-media-area\n",
       "9894   /these-draw-while?=___store%3Dview_eu&size=6_2...    /these-draw-while\n",
       "11769           /machine-among?=dm_t%3D0%2C0%2C0%2C0%2C0       /machine-among"
      ]
     },
     "execution_count": 34,
     "metadata": {},
     "output_type": "execute_result"
    }
   ],
   "source": [
    "print(dynamic_df_check.shape[0], 'rows and ', dynamic_df_check.shape[1], 'columns\\n')\n",
    "dynamic_df_check.head()"
   ]
  },
  {
   "cell_type": "markdown",
   "metadata": {},
   "source": [
    "## Remove specic parameters from the original dataframe"
   ]
  },
  {
   "cell_type": "markdown",
   "metadata": {},
   "source": [
    "\n",
    "In this example, we're going to filter out tracking parameters. Alternatively create your own custom list of parameters to remove. \n",
    "\n",
    "\n",
    "Below is my go to list of tracking parameters, which covers:\n",
    "\n",
    "- Google Abnalytics\n",
    "- Facebook\n",
    "- Mailchimp\n",
    "- Marketo\n"
   ]
  },
  {
   "cell_type": "code",
   "execution_count": 35,
   "metadata": {},
   "outputs": [],
   "source": [
    "params_to_remove = [\n",
    "    'mkt_tok',\n",
    "    'utm_source',  \n",
    "    'utm_medium', \n",
    "    'utm_campaign',\n",
    "    'utm_term', \n",
    "    'utm_content',\n",
    "    'fbclid',\n",
    "    'dm_i',\n",
    "    'dm_t',\n",
    "    'mc_cid',\n",
    "    'mc_eid',\n",
    "]"
   ]
  },
  {
   "cell_type": "markdown",
   "metadata": {},
   "source": [
    "But before we do anything let's create a copy of the original df."
   ]
  },
  {
   "cell_type": "code",
   "execution_count": 36,
   "metadata": {},
   "outputs": [],
   "source": [
    "filtered_df = df.copy()"
   ]
  },
  {
   "cell_type": "markdown",
   "metadata": {},
   "source": [
    "[Origninal Script](https://gist.github.com/tyndyll/e254ae3da2d0427371733443152c1337) - I can't take credit for this"
   ]
  },
  {
   "cell_type": "code",
   "execution_count": 37,
   "metadata": {},
   "outputs": [],
   "source": [
    "from urllib.parse import parse_qs, urlparse, urlencode\n",
    "\n",
    "def remove_tracker_params(query_string):\n",
    "\n",
    "    params = []\n",
    "    for param, values in parse_qs(query_string).items():\n",
    "        if param not in params_to_remove:\n",
    "            # value will be a list, extract each one out\n",
    "            for value in values:\n",
    "                params.append((param, value))\n",
    "    return urlencode(params)\n",
    "\n",
    "def clean_url(url):\n",
    "\n",
    "    parsed = urlparse(url)\n",
    "    parsed = parsed._replace(query=remove_tracker_params(parsed.query))\n",
    "    parsed = parsed._replace(fragment=remove_tracker_params(parsed.fragment))\n",
    "    return parsed.geturl()"
   ]
  },
  {
   "cell_type": "code",
   "execution_count": 38,
   "metadata": {},
   "outputs": [],
   "source": [
    "filtered_df[analysis_dimension] = filtered_df[analysis_dimension].apply(clean_url)"
   ]
  },
  {
   "cell_type": "markdown",
   "metadata": {},
   "source": [
    "##### Download to CSV"
   ]
  },
  {
   "cell_type": "code",
   "execution_count": 39,
   "metadata": {},
   "outputs": [],
   "source": [
    "# filtered_df.to_csv('filtered-url-parameter-data.csv',index=False)"
   ]
  },
  {
   "cell_type": "code",
   "execution_count": 40,
   "metadata": {},
   "outputs": [
    {
     "name": "stdout",
     "output_type": "stream",
     "text": [
      "Fin\n"
     ]
    }
   ],
   "source": [
    "print('Fin')"
   ]
  }
 ],
 "metadata": {
  "kernelspec": {
   "display_name": "Python 3",
   "language": "python",
   "name": "python3"
  },
  "language_info": {
   "codemirror_mode": {
    "name": "ipython",
    "version": 3
   },
   "file_extension": ".py",
   "mimetype": "text/x-python",
   "name": "python",
   "nbconvert_exporter": "python",
   "pygments_lexer": "ipython3",
   "version": "3.7.4"
  },
  "toc": {
   "base_numbering": 1,
   "nav_menu": {},
   "number_sections": true,
   "sideBar": true,
   "skip_h1_title": false,
   "title_cell": "Table of Contents",
   "title_sidebar": "Contents",
   "toc_cell": false,
   "toc_position": {},
   "toc_section_display": true,
   "toc_window_display": false
  },
  "varInspector": {
   "cols": {
    "lenName": 16,
    "lenType": 16,
    "lenVar": 40
   },
   "kernels_config": {
    "python": {
     "delete_cmd_postfix": "",
     "delete_cmd_prefix": "del ",
     "library": "var_list.py",
     "varRefreshCmd": "print(var_dic_list())"
    },
    "r": {
     "delete_cmd_postfix": ") ",
     "delete_cmd_prefix": "rm(",
     "library": "var_list.r",
     "varRefreshCmd": "cat(var_dic_list()) "
    }
   },
   "types_to_exclude": [
    "module",
    "function",
    "builtin_function_or_method",
    "instance",
    "_Feature"
   ],
   "window_display": false
  }
 },
 "nbformat": 4,
 "nbformat_minor": 2
}
